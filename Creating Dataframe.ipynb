{
 "cells": [
  {
   "cell_type": "code",
   "execution_count": 37,
   "id": "1453ae77-0139-4b0b-9ce2-08359a0d9f5d",
   "metadata": {
    "tags": []
   },
   "outputs": [
    {
     "data": {
      "text/plain": [
       "<pymongo.results.InsertManyResult at 0x257643959f0>"
      ]
     },
     "execution_count": 37,
     "metadata": {},
     "output_type": "execute_result"
    }
   ],
   "source": [
    "# Library\n",
    "import pandas as pd\n",
    "from pymongo import MongoClient\n",
    "\n",
    "# Conectando ao MongoDB\n",
    "connection_string = \"mongodb://localhost:27017\"\n",
    "client = MongoClient(connection_string)\n",
    "db_connection = client[\"avaliação_dataops\"]\n",
    "\n",
    "collection_car = db_connection.get_collection(\"Carros\")\n",
    "collection_mon = db_connection.get_collection(\"Montadoras\")\n",
    "\n",
    "# Dados para a tabela \"Carros\"\n",
    "carros_data = [\n",
    "    {'Carro': \"Onix\", 'Cor': 'Prata', 'Montadora': \"Chevrolet\"},\n",
    "    {'Carro': \"Polo\", 'Cor': 'Branco', 'Montadora': \"Volkswagen\"},\n",
    "    {'Carro': \"Sandero\", 'Cor': 'Prata', 'Montadora': \"Renault\"},\n",
    "    {'Carro': \"Fiesta\", 'Cor': 'Vermelho', 'Montadora': \"Ford\"},\n",
    "    {'Carro': \"City\", 'Cor': 'Preto', 'Montadora': \"Honda\"}\n",
    "]\n",
    "\n",
    "# Inserindo os documentos na coleção \"Carros\"\n",
    "collection_car.insert_many(carros_data)\n",
    "\n",
    "# Dados para a tabela \"Montadora\"\n",
    "montadora_data = [\n",
    "    {'Montadora': \"Chevrolet\", 'País': \"EUA\"},\n",
    "    {'Montadora': \"Volkswagen\", 'País': \"Alemanhã\"},\n",
    "    {'Montadora': \"Renault\", 'País': \"França\"},\n",
    "    {'Montadora': \"Ford\", 'País': \"EUA\"},\n",
    "    {'Montadora': \"Honda\", 'País': \"Japão\"}\n",
    "]\n",
    "\n",
    "# Inserindo os documentos na coleção \"Montadora\"\n",
    "collection_mon.insert_many(montadora_data)"
   ]
  },
  {
   "cell_type": "code",
   "execution_count": 45,
   "id": "2ae88256-2ed3-49dc-ba64-399656aa5404",
   "metadata": {
    "tags": []
   },
   "outputs": [
    {
     "name": "stdout",
     "output_type": "stream",
     "text": [
      "                        _id    Carro       Cor   Montadora\n",
      "0  64ba9f00ce2a4b469de730ed     Onix     Prata   Chevrolet\n",
      "1  64ba9f00ce2a4b469de730ee     Polo    Branco  Volkswagen\n",
      "2  64ba9f00ce2a4b469de730ef  Sandero     Prata     Renault\n",
      "3  64ba9f00ce2a4b469de730f0   Fiesta  Vermelho        Ford\n",
      "4  64ba9f00ce2a4b469de730f1     City     Preto       Honda\n"
     ]
    }
   ],
   "source": [
    "# Consulta para recuperar todos os documentos (registros) da coleção \"Carros\"\n",
    "cursor_car = collection_car.find({})\n",
    "\n",
    "# Transformar os documentos em uma lista de dicionários\n",
    "carros_data = list(cursor_car)\n",
    "\n",
    "# Criar o DataFrame a partir dos dados\n",
    "df_carros = pd.DataFrame(carros_data)\n",
    "\n",
    "print(df_carros)"
   ]
  },
  {
   "cell_type": "code",
   "execution_count": 46,
   "id": "5fe79ed0-7d88-4841-8a77-441a5bc7cc72",
   "metadata": {
    "tags": []
   },
   "outputs": [
    {
     "name": "stdout",
     "output_type": "stream",
     "text": [
      "                        _id   Montadora      País\n",
      "0  64baaab3ce2a4b469de730f2   Chevrolet       EUA\n",
      "1  64baaab3ce2a4b469de730f3  Volkswagen  Alemanhã\n",
      "2  64baaab3ce2a4b469de730f4     Renault    França\n",
      "3  64baaab3ce2a4b469de730f5        Ford       EUA\n",
      "4  64baaab3ce2a4b469de730f6       Honda     Japão\n"
     ]
    }
   ],
   "source": [
    "# Consulta para recuperar todos os documentos (registros) da coleção \"Montadora\"\n",
    "cursor_mon = collection_mon.find({})\n",
    "\n",
    "# Transformar os documentos em uma lista de dicionários\n",
    "montadora_data = list(cursor_mon)\n",
    "\n",
    "# Criar o DataFrame a partir dos dados\n",
    "df_montadora = pd.DataFrame(montadora_data)\n",
    "\n",
    "print(df_montadora)"
   ]
  },
  {
   "cell_type": "code",
   "execution_count": 52,
   "id": "c5eb25ce-b242-4e5d-a012-5c3a8e9677f9",
   "metadata": {
    "tags": []
   },
   "outputs": [
    {
     "data": {
      "text/html": [
       "<div>\n",
       "<style scoped>\n",
       "    .dataframe tbody tr th:only-of-type {\n",
       "        vertical-align: middle;\n",
       "    }\n",
       "\n",
       "    .dataframe tbody tr th {\n",
       "        vertical-align: top;\n",
       "    }\n",
       "\n",
       "    .dataframe thead th {\n",
       "        text-align: right;\n",
       "    }\n",
       "</style>\n",
       "<table border=\"1\" class=\"dataframe\">\n",
       "  <thead>\n",
       "    <tr style=\"text-align: right;\">\n",
       "      <th></th>\n",
       "      <th>_id_x</th>\n",
       "      <th>Carro</th>\n",
       "      <th>Cor</th>\n",
       "      <th>Montadora</th>\n",
       "      <th>_id_y</th>\n",
       "      <th>País</th>\n",
       "    </tr>\n",
       "  </thead>\n",
       "  <tbody>\n",
       "    <tr>\n",
       "      <th>0</th>\n",
       "      <td>64ba9f00ce2a4b469de730ed</td>\n",
       "      <td>Onix</td>\n",
       "      <td>Prata</td>\n",
       "      <td>Chevrolet</td>\n",
       "      <td>64baaab3ce2a4b469de730f2</td>\n",
       "      <td>EUA</td>\n",
       "    </tr>\n",
       "    <tr>\n",
       "      <th>1</th>\n",
       "      <td>64ba9f00ce2a4b469de730ee</td>\n",
       "      <td>Polo</td>\n",
       "      <td>Branco</td>\n",
       "      <td>Volkswagen</td>\n",
       "      <td>64baaab3ce2a4b469de730f3</td>\n",
       "      <td>Alemanhã</td>\n",
       "    </tr>\n",
       "    <tr>\n",
       "      <th>2</th>\n",
       "      <td>64ba9f00ce2a4b469de730ef</td>\n",
       "      <td>Sandero</td>\n",
       "      <td>Prata</td>\n",
       "      <td>Renault</td>\n",
       "      <td>64baaab3ce2a4b469de730f4</td>\n",
       "      <td>França</td>\n",
       "    </tr>\n",
       "    <tr>\n",
       "      <th>3</th>\n",
       "      <td>64ba9f00ce2a4b469de730f0</td>\n",
       "      <td>Fiesta</td>\n",
       "      <td>Vermelho</td>\n",
       "      <td>Ford</td>\n",
       "      <td>64baaab3ce2a4b469de730f5</td>\n",
       "      <td>EUA</td>\n",
       "    </tr>\n",
       "    <tr>\n",
       "      <th>4</th>\n",
       "      <td>64ba9f00ce2a4b469de730f1</td>\n",
       "      <td>City</td>\n",
       "      <td>Preto</td>\n",
       "      <td>Honda</td>\n",
       "      <td>64baaab3ce2a4b469de730f6</td>\n",
       "      <td>Japão</td>\n",
       "    </tr>\n",
       "  </tbody>\n",
       "</table>\n",
       "</div>"
      ],
      "text/plain": [
       "                      _id_x    Carro       Cor   Montadora  \\\n",
       "0  64ba9f00ce2a4b469de730ed     Onix     Prata   Chevrolet   \n",
       "1  64ba9f00ce2a4b469de730ee     Polo    Branco  Volkswagen   \n",
       "2  64ba9f00ce2a4b469de730ef  Sandero     Prata     Renault   \n",
       "3  64ba9f00ce2a4b469de730f0   Fiesta  Vermelho        Ford   \n",
       "4  64ba9f00ce2a4b469de730f1     City     Preto       Honda   \n",
       "\n",
       "                      _id_y      País  \n",
       "0  64baaab3ce2a4b469de730f2       EUA  \n",
       "1  64baaab3ce2a4b469de730f3  Alemanhã  \n",
       "2  64baaab3ce2a4b469de730f4    França  \n",
       "3  64baaab3ce2a4b469de730f5       EUA  \n",
       "4  64baaab3ce2a4b469de730f6     Japão  "
      ]
     },
     "execution_count": 52,
     "metadata": {},
     "output_type": "execute_result"
    }
   ],
   "source": [
    "#Merge para adicionar a coluna \"País\"\n",
    "df_merged = pd.merge(df_carros, df_montadora, on=\"Montadora\")\n",
    "\n",
    "df_merged"
   ]
  },
  {
   "cell_type": "code",
   "execution_count": 68,
   "id": "5ffad49a-a988-4a7d-9ea4-4e28979453ec",
   "metadata": {
    "tags": []
   },
   "outputs": [
    {
     "name": "stdout",
     "output_type": "stream",
     "text": [
      "       País  Quantidade de Carros\n",
      "0  Alemanhã                     1\n",
      "1       EUA                     2\n",
      "2    França                     1\n",
      "3     Japão                     1\n"
     ]
    }
   ],
   "source": [
    "aggregated_data = df_merged.groupby('País')['Carro'].count().reset_index()\n",
    "\n",
    "# Renomear a coluna resultante para \"Quantidade de Carros\"\n",
    "aggregated_data.rename(columns={'Carro': 'Quantidade de Carros'}, inplace=True)\n",
    "\n",
    "print(aggregated_data)"
   ]
  },
  {
   "cell_type": "code",
   "execution_count": 70,
   "id": "a245ac76-2b4d-47c1-bd1f-a48dd019a9a0",
   "metadata": {
    "tags": []
   },
   "outputs": [],
   "source": [
    "# Converter o DataFrame para formato JSON\n",
    "json_data = aggregated_data.to_json(orient='records')\n",
    "\n",
    "# Caminho e nome do arquivo .js que você deseja salvar\n",
    "file_path = \"aggregated_data.js\"\n",
    "\n",
    "# Escrever o JSON no arquivo .js\n",
    "with open(file_path, \"w\") as file:\n",
    "    file.write(f\"var aggregatedData = {json_data};\")"
   ]
  }
 ],
 "metadata": {
  "kernelspec": {
   "display_name": "Python 3 (ipykernel)",
   "language": "python",
   "name": "python3"
  },
  "language_info": {
   "codemirror_mode": {
    "name": "ipython",
    "version": 3
   },
   "file_extension": ".py",
   "mimetype": "text/x-python",
   "name": "python",
   "nbconvert_exporter": "python",
   "pygments_lexer": "ipython3",
   "version": "3.11.3"
  }
 },
 "nbformat": 4,
 "nbformat_minor": 5
}
